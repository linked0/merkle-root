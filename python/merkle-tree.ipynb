{
  "nbformat": 4,
  "nbformat_minor": 0,
  "metadata": {
    "colab": {
      "name": "merkle-tree.ipynb",
      "version": "0.3.2",
      "provenance": [],
      "include_colab_link": true
    },
    "kernelspec": {
      "name": "python3",
      "display_name": "Python 3"
    }
  },
  "cells": [
    {
      "cell_type": "markdown",
      "metadata": {
        "id": "view-in-github",
        "colab_type": "text"
      },
      "source": [
        "<a href=\"https://colab.research.google.com/github/linked0/merkle-root/blob/master/python/merkle-tree.ipynb\" target=\"_parent\"><img src=\"https://colab.research.google.com/assets/colab-badge.svg\" alt=\"Open In Colab\"/></a>"
      ]
    },
    {
      "cell_type": "code",
      "metadata": {
        "id": "2HEqhrJsnijI",
        "colab_type": "code",
        "colab": {
          "base_uri": "https://localhost:8080/",
          "height": 86
        },
        "outputId": "7da517ba-d16b-4e0b-cee6-9a8c4b07b33f"
      },
      "source": [
        "from hashlib import sha256\n",
        "import binascii\n",
        "\n",
        "class MerkleTree(object):\n",
        "  def __init__(self, values):\n",
        "    self.leaf_values = values\n",
        "    self.root_node = []\n",
        "    \n",
        "  def makeTree(self):\n",
        "    root = []\n",
        "    for value in self.leaf_values:\n",
        "      encoded_value = value.encode()\n",
        "      hash1 = sha256(encoded_value).digest()\n",
        "      hash2  = sha256(hash1).digest()\n",
        "      root.append(hash2)\n",
        "      \n",
        "#     while len(root) == 1 {\n",
        "#       for value in values:\n",
        "#         temp_dict = dict()\n",
        "#     }\n",
        "    self.root_node = root\n",
        "    \n",
        "  def printTree(self):\n",
        "    for node in self.root_node:\n",
        "      print(str(binascii.hexlify(node), 'ascii'))\n",
        "\n",
        "def merkle(*argv):\n",
        "  mt = MerkleTree(argv)\n",
        "  mt.makeTree()\n",
        "  mt.printTree()\n",
        "  \n",
        "  \n",
        "merkle('The quick brown fox', 'jump over', 'the', 'lazy dog')"
      ],
      "execution_count": 28,
      "outputs": [
        {
          "output_type": "stream",
          "text": [
            "7743034d22491720b723b68afd046be66969409254dc79a153e290c81a8f238a\n",
            "f51df418d9d7bafdcfdc4320409e08e39858d0d686fee959ea545e6d7c214f71\n",
            "1e7c521a055f0f08cea3faded5923cca2d8f4366a62aaa8a8b843a842aa656b8\n",
            "144bee93d8f6350c6e38c96eeb11de2cd249a7bd5d23ff4c91eb46573b5af3ba\n"
          ],
          "name": "stdout"
        }
      ]
    },
    {
      "cell_type": "code",
      "metadata": {
        "id": "kB2Dgsqd0iPf",
        "colab_type": "code",
        "colab": {}
      },
      "source": [
        ""
      ],
      "execution_count": 0,
      "outputs": []
    }
  ]
}