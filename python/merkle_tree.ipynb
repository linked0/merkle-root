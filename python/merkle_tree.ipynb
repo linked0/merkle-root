{
  "nbformat": 4,
  "nbformat_minor": 0,
  "metadata": {
    "colab": {
      "name": "merkle-tree.ipynb",
      "version": "0.3.2",
      "provenance": [],
      "include_colab_link": true
    },
    "kernelspec": {
      "name": "python3",
      "display_name": "Python 3"
    }
  },
  "cells": [
    {
      "cell_type": "markdown",
      "metadata": {
        "id": "view-in-github",
        "colab_type": "text"
      },
      "source": [
        "<a href=\"https://colab.research.google.com/github/linked0/merkle-root/blob/master/python/merkle_tree.ipynb\" target=\"_parent\"><img src=\"https://colab.research.google.com/assets/colab-badge.svg\" alt=\"Open In Colab\"/></a>"
      ]
    },
    {
      "cell_type": "code",
      "metadata": {
        "id": "2HEqhrJsnijI",
        "colab_type": "code",
        "colab": {
          "base_uri": "https://localhost:8080/",
          "height": 535
        },
        "outputId": "60e43427-35ff-4a37-df8a-f1dbf35d3370"
      },
      "source": [
        "from hashlib import sha256\n",
        "import binascii\n",
        "\n",
        "class MerkleTree(object):\n",
        "  def __init__(self, values):\n",
        "    self.leaf_data = list(values)\n",
        "    \n",
        "    if len(self.leaf_data) > 0:\n",
        "      leaf_count = 1\n",
        "      while leaf_count < len(self.leaf_data):\n",
        "        leaf_count *= 2\n",
        "        \n",
        "      for i in range(len(values), leaf_count):\n",
        "        self.leaf_data.append(self.leaf_data[-1])\n",
        "    \n",
        "    \n",
        "  def makeTree(self):\n",
        "    current_level = []\n",
        "    for data in self.leaf_data:\n",
        "      hash_value = self.get_double_sha256(data.encode('ascii'), None)\n",
        "      node = dict({'hash': hash_value, 'data': data, 'child': None})\n",
        "#       print(str(binascii.hexlify(hash_value), 'ascii').upper())\n",
        "      current_level.append(node)\n",
        "      \n",
        "    non_leaf_node = None\n",
        "    iter_count = 0\n",
        "    while len(current_level) != 1:\n",
        "      parent_level = []\n",
        "      for i in range(0, len(current_level), 2):\n",
        "        node1 = current_level[i]\n",
        "        node2 = current_level[i+1]\n",
        "        hash_value = self.get_double_sha256(node1['hash'], node2['hash'])\n",
        "#         print('iter_count:', iter_count, ', hash:', str(binascii.hexlify(hash_value), 'ascii').upper())\n",
        "        non_leaf_node = dict({'hash': hash_value, 'data': None, 'child':[node1, node2]})\n",
        "        parent_level.append(non_leaf_node)\n",
        "\n",
        "#       print('parent_level count:', len(parent_level))\n",
        "      iter_count += 1\n",
        "      current_level = parent_level\n",
        "    \n",
        "    self.root_node = non_leaf_node\n",
        "    \n",
        "  def get_double_sha256(self, value1, value2):\n",
        "    m = sha256()\n",
        "    m.update(value1)\n",
        "    if value2 != None:\n",
        "      m.update(value2)\n",
        "    one_hash = m.digest()\n",
        "    double_hash = sha256(one_hash).digest()\n",
        "    return double_hash\n",
        "    \n",
        "  def printTree(self, nodes, level=0):\n",
        "    if nodes == None:\n",
        "      nodes = [self.root_node]\n",
        "    \n",
        "    print('Level {0}:'.format(level))\n",
        "    next_print_nodes = []\n",
        "    for node in nodes:\n",
        "      print(str(binascii.hexlify(node['hash']), 'ascii').upper())\n",
        "      if node['child'] != None:\n",
        "        next_print_nodes = next_print_nodes + node['child']\n",
        "      \n",
        "    if len(next_print_nodes) != 0:\n",
        "      self.printTree(next_print_nodes, level+1)\n",
        "    \n",
        "\n",
        "def merkle(*argv):\n",
        "  mt = MerkleTree(argv)\n",
        "  mt.makeTree()\n",
        "  mt.printTree(None)\n",
        "  \n",
        "  \n",
        "merkle('The quick brown fox', 'jump over', 'the', 'lazy dog')\n",
        "print('')\n",
        "merkle('The quick brown fox', 'jump over', 'the', 'lazy', 'dog')"
      ],
      "execution_count": 92,
      "outputs": [
        {
          "output_type": "stream",
          "text": [
            "Level 0:\n",
            "018FB04252A594A8049CBFE9E34848249040E1FA7E170501E17ADC06393D4DC3\n",
            "Level 1:\n",
            "836C2FE675884DB41C49215F8A91E6560B1EA752F683DB793E9B86180CA235F8\n",
            "49B9A6B1346DC768898A16C2DAD9D554349C9150F8B2809AC7D48B305C4D3650\n",
            "Level 2:\n",
            "7743034D22491720B723B68AFD046BE66969409254DC79A153E290C81A8F238A\n",
            "F51DF418D9D7BAFDCFDC4320409E08E39858D0D686FEE959EA545E6D7C214F71\n",
            "1E7C521A055F0F08CEA3FADED5923CCA2D8F4366A62AAA8A8B843A842AA656B8\n",
            "144BEE93D8F6350C6E38C96EEB11DE2CD249A7BD5D23FF4C91EB46573B5AF3BA\n",
            "\n",
            "Level 0:\n",
            "9AF409C11D320898DA335F82FAC8918014A6589E55F2C98F2B3C468ED83F6ACE\n",
            "Level 1:\n",
            "6E76CEB1CBD48BE752949D832B4AB2848E7B9DF6A4286A524C7B134A4A9DF458\n",
            "156B626C730889C1CD1A1F05D55EC3C16AF6DC5BD6977E0BE2A1935C86A74CCF\n",
            "Level 2:\n",
            "836C2FE675884DB41C49215F8A91E6560B1EA752F683DB793E9B86180CA235F8\n",
            "31A1892ED0C9857597D9D8902E1A05D5A3A99DEAD7FADB9E69BF319FC22C1AE6\n",
            "CBBC43D5431E285C2770E9F9084663CB6CCF4B23228DD8E90A30B361A80CC57D\n",
            "CBBC43D5431E285C2770E9F9084663CB6CCF4B23228DD8E90A30B361A80CC57D\n",
            "Level 3:\n",
            "7743034D22491720B723B68AFD046BE66969409254DC79A153E290C81A8F238A\n",
            "F51DF418D9D7BAFDCFDC4320409E08E39858D0D686FEE959EA545E6D7C214F71\n",
            "1E7C521A055F0F08CEA3FADED5923CCA2D8F4366A62AAA8A8B843A842AA656B8\n",
            "6CFAC15CDF8A0065DCF55ADC0F9CE57847747EA94D63A276CACCEC6F64A8819D\n",
            "9DA6BDB1E8A041F1795966F87619385B713E4BEFE723130ED2748939EF791579\n",
            "9DA6BDB1E8A041F1795966F87619385B713E4BEFE723130ED2748939EF791579\n",
            "9DA6BDB1E8A041F1795966F87619385B713E4BEFE723130ED2748939EF791579\n",
            "9DA6BDB1E8A041F1795966F87619385B713E4BEFE723130ED2748939EF791579\n"
          ],
          "name": "stdout"
        }
      ]
    },
    {
      "cell_type": "code",
      "metadata": {
        "id": "kB2Dgsqd0iPf",
        "colab_type": "code",
        "colab": {
          "base_uri": "https://localhost:8080/",
          "height": 35
        },
        "outputId": "450bd07b-53bd-4642-dd58-60451c19fde3"
      },
      "source": [
        "root = dict({'index':0, 'data':'hello', 'parent':None})\n",
        "child = dict({'index':1, 'data':'world', 'parent':root})\n",
        "\n",
        "print('root from child:', child['parent']['data'])"
      ],
      "execution_count": 32,
      "outputs": [
        {
          "output_type": "stream",
          "text": [
            "root from child: hello\n"
          ],
          "name": "stdout"
        }
      ]
    },
    {
      "cell_type": "code",
      "metadata": {
        "id": "aVNhwXgPq-wZ",
        "colab_type": "code",
        "colab": {
          "base_uri": "https://localhost:8080/",
          "height": 52
        },
        "outputId": "d92185e4-31c0-4fd9-9024-59372685af76"
      },
      "source": [
        "arr = ['a', 'b', 'c', 'd']\n",
        "for  i  in range(0, len(arr), 2):\n",
        "  print(i)"
      ],
      "execution_count": 38,
      "outputs": [
        {
          "output_type": "stream",
          "text": [
            "0\n",
            "2\n"
          ],
          "name": "stdout"
        }
      ]
    },
    {
      "cell_type": "code",
      "metadata": {
        "id": "CmDIjHaSwj_0",
        "colab_type": "code",
        "colab": {}
      },
      "source": [
        ""
      ],
      "execution_count": 0,
      "outputs": []
    }
  ]
}